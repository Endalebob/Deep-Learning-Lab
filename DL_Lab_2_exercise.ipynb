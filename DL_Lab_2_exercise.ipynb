{
  "nbformat": 4,
  "nbformat_minor": 0,
  "metadata": {
    "colab": {
      "provenance": [],
      "authorship_tag": "ABX9TyMSNblRn+uC5X08PuLuYkUz",
      "include_colab_link": true
    },
    "kernelspec": {
      "name": "python3",
      "display_name": "Python 3"
    },
    "language_info": {
      "name": "python"
    }
  },
  "cells": [
    {
      "cell_type": "markdown",
      "metadata": {
        "id": "view-in-github",
        "colab_type": "text"
      },
      "source": [
        "<a href=\"https://colab.research.google.com/github/Endalebob/Deep-Learning-Lab/blob/main/DL_Lab_2_exercise.ipynb\" target=\"_parent\"><img src=\"https://colab.research.google.com/assets/colab-badge.svg\" alt=\"Open In Colab\"/></a>"
      ]
    },
    {
      "cell_type": "markdown",
      "metadata": {
        "id": "Bi8lmqWNSZ11"
      },
      "source": [
        "### Name: Endale Yohannes\n",
        "### ID N0: UGR/7379/12"
      ]
    },
    {
      "cell_type": "code",
      "execution_count": 2,
      "metadata": {
        "colab": {
          "base_uri": "https://localhost:8080/"
        },
        "id": "sa4zhg2C_kHS",
        "outputId": "ffa2b643-4fb4-4a62-c276-3dc535138d80"
      },
      "outputs": [
        {
          "output_type": "execute_result",
          "data": {
            "text/plain": [
              "<torch._C.Generator at 0x79709e1c7d10>"
            ]
          },
          "metadata": {},
          "execution_count": 2
        }
      ],
      "source": [
        "import torch\n",
        "torch.manual_seed(37)"
      ]
    },
    {
      "cell_type": "code",
      "source": [
        "class DenseLayer:\n",
        "  def __init__(self, n_inputs, n_neurons):\n",
        "    # initialize weights and biases\n",
        "    self.weights = 0.01*torch.rand(n_inputs,n_neurons)\n",
        "    self.bias = torch.zeros((1,n_neurons))\n",
        "\n",
        "  def forward(self,inputs):\n",
        "    self.output = torch.matmul(inputs,self.weights) + self.bias"
      ],
      "metadata": {
        "id": "zwCLDS53_44x"
      },
      "execution_count": 5,
      "outputs": []
    },
    {
      "cell_type": "code",
      "source": [
        "inputs = torch.rand(5) # 5 features\n",
        "layer1 = DenseLayer(5,16) # layer 1 with 16 neuron\n",
        "layer1.forward(inputs)"
      ],
      "metadata": {
        "id": "MviZZeFNANXl"
      },
      "execution_count": 6,
      "outputs": []
    },
    {
      "cell_type": "code",
      "source": [
        "layer2 = DenseLayer(16,16) # layer 2 with 16 neuron\n",
        "layer2.forward(layer1.output)"
      ],
      "metadata": {
        "id": "aqG7pVokAbfn"
      },
      "execution_count": 7,
      "outputs": []
    },
    {
      "cell_type": "code",
      "source": [
        "layer3 = DenseLayer(16,16) # layer 3 with 16 neuron\n",
        "layer3.forward(layer2.output)"
      ],
      "metadata": {
        "id": "KGm7VUi3BcF1"
      },
      "execution_count": 8,
      "outputs": []
    },
    {
      "cell_type": "code",
      "source": [
        "outputs = DenseLayer(16,3) # output layer with 3 class\n",
        "outputs.forward(layer3.output)\n",
        "outputs.output"
      ],
      "metadata": {
        "colab": {
          "base_uri": "https://localhost:8080/"
        },
        "id": "kEqr0Ol3Bpau",
        "outputId": "280639a6-2d4a-4bd5-f08d-038dfd8ee177"
      },
      "execution_count": 9,
      "outputs": [
        {
          "output_type": "execute_result",
          "data": {
            "text/plain": [
              "tensor([[7.7548e-06, 8.2913e-06, 5.6337e-06]])"
            ]
          },
          "metadata": {},
          "execution_count": 9
        }
      ]
    },
    {
      "cell_type": "code",
      "source": [],
      "metadata": {
        "id": "nprD7v44ADZh"
      },
      "execution_count": null,
      "outputs": []
    }
  ]
}